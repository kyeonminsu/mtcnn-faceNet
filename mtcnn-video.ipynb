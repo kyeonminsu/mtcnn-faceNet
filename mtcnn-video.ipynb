{
 "cells": [
  {
   "cell_type": "code",
   "execution_count": 1,
   "metadata": {},
   "outputs": [
    {
     "name": "stderr",
     "output_type": "stream",
     "text": [
      "Using TensorFlow backend.\n"
     ]
    }
   ],
   "source": [
    "import tensorflow as tf\n",
    "from mtcnn import MTCNN\n",
    "import cv2\n",
    "import os\n",
    "import time"
   ]
  },
  {
   "cell_type": "code",
   "execution_count": 3,
   "metadata": {},
   "outputs": [],
   "source": [
    "detector = MTCNN()"
   ]
  },
  {
   "cell_type": "code",
   "execution_count": 4,
   "metadata": {},
   "outputs": [
    {
     "data": {
      "text/plain": [
       "True"
      ]
     },
     "execution_count": 4,
     "metadata": {},
     "output_type": "execute_result"
    }
   ],
   "source": [
    "cap = cv2.VideoCapture(0)\n",
    "cap.set(3,1024)\n",
    "cap.set(4,768)"
   ]
  },
  {
   "cell_type": "code",
   "execution_count": 5,
   "metadata": {},
   "outputs": [],
   "source": [
    "face_id = \"minsu\"\n",
    "count=0\n",
    "capture_start=False"
   ]
  },
  {
   "cell_type": "code",
   "execution_count": 6,
   "metadata": {},
   "outputs": [],
   "source": [
    "while True:\n",
    "    ret, frame = cap.read()\n",
    "    img_rgb = cv2.cvtColor(frame, ret)\n",
    "    results = detector.detect_faces(img_rgb)\n",
    "    \n",
    "    for result in results:\n",
    "        bounding_box = result['box']\n",
    "        keypoints = result['keypoints']\n",
    "    \n",
    "        # 1. 얼굴 위치 표시\n",
    "        cv2.rectangle(img_rgb,\n",
    "                  (bounding_box[0], bounding_box[1]),\n",
    "                  (bounding_box[0]+bounding_box[2], bounding_box[1] + bounding_box[3]),\n",
    "                  (255,255,255))\n",
    "        \n",
    "        #count += 1\n",
    "        if(capture_start==True):\n",
    "            count+=1\n",
    "            #cv2.imwrite(\"dataset/\" + str(face_id) + '.' + str(count) + \".jpg\", img_rgb[y:y+h,x:x+w])\n",
    "            cv2.imwrite(\"dataset/\" + str(face_id) + '.' + str(count) + \".jpg\",\n",
    "                    img_rgb[bounding_box[1]:bounding_box[1]+ bounding_box[3],\n",
    "                            bounding_box[0]:bounding_box[0]+bounding_box[2]])\n",
    "        \n",
    "        # 2. 주요 부분 landmark 표시\n",
    "        cv2.circle(img_rgb,(keypoints['left_eye']), 2, (0,155,255), 2)\n",
    "        cv2.circle(img_rgb,(keypoints['right_eye']), 2, (0,155,255), 2)\n",
    "        cv2.circle(img_rgb,(keypoints['nose']), 2, (0,155,255), 2)\n",
    "        cv2.circle(img_rgb,(keypoints['mouth_left']), 2, (0,155,255), 2)\n",
    "        cv2.circle(img_rgb,(keypoints['mouth_right']), 2, (0,155,255), 2)\n",
    "        \n",
    "        \n",
    "        \n",
    "    cv2.imshow('frame', img_rgb)\n",
    "    \n",
    "    if(cv2.waitKey(1)&0xFF ==ord('q')) :\n",
    "        break\n",
    "    elif(cv2.waitKey(97)&0xFF ==ord('a')) :\n",
    "        capture_start=True;\n",
    "    elif count>2:\n",
    "        break\n",
    "        \n",
    "cap.release()\n",
    "cv2.destroyAllWindows()"
   ]
  },
  {
   "cell_type": "code",
   "execution_count": null,
   "metadata": {},
   "outputs": [],
   "source": []
  }
 ],
 "metadata": {
  "kernelspec": {
   "display_name": "Python 3",
   "language": "python",
   "name": "python3"
  },
  "language_info": {
   "codemirror_mode": {
    "name": "ipython",
    "version": 3
   },
   "file_extension": ".py",
   "mimetype": "text/x-python",
   "name": "python",
   "nbconvert_exporter": "python",
   "pygments_lexer": "ipython3",
   "version": "3.7.6"
  }
 },
 "nbformat": 4,
 "nbformat_minor": 4
}
