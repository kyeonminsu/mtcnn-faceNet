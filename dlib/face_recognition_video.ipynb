{
 "cells": [
  {
   "cell_type": "code",
   "execution_count": 1,
   "metadata": {},
   "outputs": [],
   "source": [
    "import dlib, cv2\n",
    "import numpy as np"
   ]
  },
  {
   "cell_type": "code",
   "execution_count": 2,
   "metadata": {},
   "outputs": [],
   "source": [
    "detector = dlib.get_frontal_face_detector() #얼굴 검출\n",
    "sp = dlib.shape_predictor('models/shape_predictor_68_face_landmarks.dat') #얼굴 68개 랜드마크 검출\n",
    "facerec = dlib.face_recognition_model_v1('models/dlib_face_recognition_resnet_model_v1.dat') #얼굴 인식"
   ]
  },
  {
   "cell_type": "code",
   "execution_count": 3,
   "metadata": {},
   "outputs": [],
   "source": [
    "descs_minsu= np.load('img/descs_minsu.npy',allow_pickle=True) [()]"
   ]
  },
  {
   "cell_type": "code",
   "execution_count": 4,
   "metadata": {},
   "outputs": [],
   "source": [
    "cap = cv2.VideoCapture(0)\n",
    "cap.set(3,640)\n",
    "cap.set(4,480)\n",
    "\n",
    "if not cap.isOpened():\n",
    "    exit()"
   ]
  },
  {
   "cell_type": "code",
   "execution_count": 5,
   "metadata": {},
   "outputs": [],
   "source": [
    "def encode_face(img):\n",
    "    dets = detector(img, 1)\n",
    "\n",
    "    if len(dets) == 0:\n",
    "        return np.empty(0)\n",
    "\n",
    "    for k, d in enumerate(dets):\n",
    "        shape = sp(img, d)\n",
    "        face_descriptor = facerec.compute_face_descriptor(img, shape)\n",
    "\n",
    "    return np.array(face_descriptor)"
   ]
  },
  {
   "cell_type": "code",
   "execution_count": 6,
   "metadata": {
    "scrolled": true
   },
   "outputs": [],
   "source": [
    "while True:\n",
    "    ret, frame = cap.read()\n",
    "    \n",
    "    if not ret:\n",
    "        break\n",
    "        \n",
    "    #img_rgb = cv2.cvtColor(frame, ret)\n",
    "    img_rgb = cv2.cvtColor(frame, cv2.COLOR_BGR2RGB)\n",
    "    dets = detector(frame, 1)\n",
    "    \n",
    "    for k, d in enumerate(dets):\n",
    "        shape = sp(frame, d)\n",
    "        face_descriptor = facerec.compute_face_descriptor(img_rgb, shape)\n",
    "\n",
    "        last_found = {'name': 'unknown', 'dist': 0.6, 'color': (0,0,255)}\n",
    "\n",
    "        for name, saved_desc in descs_minsu.items():\n",
    "            dist = np.linalg.norm([face_descriptor] - saved_desc, axis=1)\n",
    "\n",
    "            if dist < last_found['dist']:\n",
    "                last_found = {'name': name, 'dist': dist, 'color': (255,255,255)}\n",
    "\n",
    "        cv2.rectangle(frame, pt1=(d.left(), d.top()), pt2=(d.right(), d.bottom()), \n",
    "                  color=last_found['color'], thickness=2)\n",
    "    \n",
    "        cv2.putText(frame, last_found['name'], org=(d.left(), d.top()), fontFace=cv2.FONT_HERSHEY_SIMPLEX, \n",
    "                fontScale=1, color=last_found['color'], thickness=2)\n",
    "    \n",
    "    cv2.imshow('face', frame)\n",
    "    \n",
    "    if(cv2.waitKey(1)&0xFF ==ord('q')) :\n",
    "        break\n",
    "        \n",
    "cap.release()\n",
    "cv2.destroyAllWindows()"
   ]
  },
  {
   "cell_type": "code",
   "execution_count": null,
   "metadata": {},
   "outputs": [],
   "source": []
  }
 ],
 "metadata": {
  "kernelspec": {
   "display_name": "Python 3",
   "language": "python",
   "name": "python3"
  },
  "language_info": {
   "codemirror_mode": {
    "name": "ipython",
    "version": 3
   },
   "file_extension": ".py",
   "mimetype": "text/x-python",
   "name": "python",
   "nbconvert_exporter": "python",
   "pygments_lexer": "ipython3",
   "version": "3.7.6"
  }
 },
 "nbformat": 4,
 "nbformat_minor": 4
}
