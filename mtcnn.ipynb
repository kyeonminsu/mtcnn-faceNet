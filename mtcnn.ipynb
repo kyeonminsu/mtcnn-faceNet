{
 "cells": [
  {
   "cell_type": "code",
   "execution_count": 3,
   "metadata": {},
   "outputs": [],
   "source": [
    "from mtcnn import MTCNN\n",
    "import cv2"
   ]
  },
  {
   "cell_type": "code",
   "execution_count": 4,
   "metadata": {},
   "outputs": [],
   "source": [
    "detector = MTCNN()"
   ]
  },
  {
   "cell_type": "code",
   "execution_count": 5,
   "metadata": {},
   "outputs": [],
   "source": [
    "img_bgr = cv2.imread('sibar.jpg')\n",
    "img_rgb = cv2.cvtColor(img_bgr, cv2.COLOR_BGR2RGB)"
   ]
  },
  {
   "cell_type": "code",
   "execution_count": 6,
   "metadata": {},
   "outputs": [],
   "source": [
    "results = detector.detect_faces(img_rgb)"
   ]
  },
  {
   "cell_type": "code",
   "execution_count": 9,
   "metadata": {},
   "outputs": [
    {
     "name": "stdout",
     "output_type": "stream",
     "text": [
      "{'box': [71, 512, 188, 232], 'confidence': 0.9999939203262329, 'keypoints': {'left_eye': (163, 591), 'right_eye': (244, 598), 'nose': (218, 645), 'mouth_left': (158, 690), 'mouth_right': (230, 694)}}\n",
      "{'box': [553, 390, 93, 110], 'confidence': 0.9999899864196777, 'keypoints': {'left_eye': (583, 429), 'right_eye': (625, 432), 'nose': (605, 457), 'mouth_left': (585, 477), 'mouth_right': (619, 480)}}\n",
      "{'box': [246, 436, 104, 122], 'confidence': 0.9999662637710571, 'keypoints': {'left_eye': (290, 478), 'right_eye': (337, 491), 'nose': (314, 510), 'mouth_left': (284, 526), 'mouth_right': (318, 537)}}\n",
      "{'box': [411, 375, 76, 87], 'confidence': 0.999819815158844, 'keypoints': {'left_eye': (433, 405), 'right_eye': (468, 406), 'nose': (449, 426), 'mouth_left': (433, 440), 'mouth_right': (464, 443)}}\n"
     ]
    }
   ],
   "source": [
    "for result in results:\n",
    "    print(result)\n",
    "\n",
    "    bounding_box = result['box']\n",
    "    keypoints = result['keypoints']\n",
    "    \n",
    "    # 1. 얼굴 위치 표시\n",
    "    cv2.rectangle(img_rgb,\n",
    "                  (bounding_box[0], bounding_box[1]),\n",
    "                  (bounding_box[0]+bounding_box[2], bounding_box[1] + bounding_box[3]),\n",
    "                  (0,155,255),2)\n",
    "    \n",
    "    # 2. 주요 부분 landmark 표시\n",
    "    cv2.circle(img_rgb,(keypoints['left_eye']), 2, (0,155,255), 2)\n",
    "    cv2.circle(img_rgb,(keypoints['right_eye']), 2, (0,155,255), 2)\n",
    "    cv2.circle(img_rgb,(keypoints['nose']), 2, (0,155,255), 2)\n",
    "    cv2.circle(img_rgb,(keypoints['mouth_left']), 2, (0,155,255), 2)\n",
    "    cv2.circle(img_rgb,(keypoints['mouth_right']), 2, (0,155,255), 2)"
   ]
  },
  {
   "cell_type": "code",
   "execution_count": null,
   "metadata": {},
   "outputs": [],
   "source": [
    "save_path = \"000001_face3.jpg\"\n",
    "image = cv2.cvtColor(img_rgb, cv2.COLOR_BGR2RGB)\n",
    "cv2.imwrite(save_path, image)\n",
    "\n",
    "display(Image(filename=save_path, width=1024))"
   ]
  }
 ],
 "metadata": {
  "kernelspec": {
   "display_name": "Python 3",
   "language": "python",
   "name": "python3"
  },
  "language_info": {
   "codemirror_mode": {
    "name": "ipython",
    "version": 3
   },
   "file_extension": ".py",
   "mimetype": "text/x-python",
   "name": "python",
   "nbconvert_exporter": "python",
   "pygments_lexer": "ipython3",
   "version": "3.8.8"
  }
 },
 "nbformat": 4,
 "nbformat_minor": 4
}
